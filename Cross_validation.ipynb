{
  "cells": [
    {
      "cell_type": "markdown",
      "metadata": {
        "id": "view-in-github",
        "colab_type": "text"
      },
      "source": [
        "<a href=\"https://colab.research.google.com/github/aliroish/Data-Analyst-using-python/blob/main/Cross_validation.ipynb\" target=\"_parent\"><img src=\"https://colab.research.google.com/assets/colab-badge.svg\" alt=\"Open In Colab\"/></a>"
      ]
    },
    {
      "cell_type": "code",
      "execution_count": null,
      "id": "09e9d591",
      "metadata": {
        "id": "09e9d591"
      },
      "outputs": [],
      "source": [
        "import pandas as pd\n",
        "df = pd.read_csv(\"/content/carprice.csv\")\n",
        "df"
      ]
    },
    {
      "cell_type": "code",
      "execution_count": 5,
      "id": "ea0b1529",
      "metadata": {
        "id": "ea0b1529"
      },
      "outputs": [],
      "source": [
        "X = df[['Mileage','Age']]\n",
        "y = df['Price']"
      ]
    },
    {
      "cell_type": "code",
      "execution_count": 8,
      "id": "d9635fcb",
      "metadata": {
        "id": "d9635fcb"
      },
      "outputs": [],
      "source": [
        "from sklearn.linear_model import LinearRegression\n",
        "lr = LinearRegression()"
      ]
    },
    {
      "cell_type": "code",
      "execution_count": 10,
      "id": "3902a508",
      "metadata": {
        "colab": {
          "base_uri": "https://localhost:8080/"
        },
        "id": "3902a508",
        "outputId": "b5066b49-4f81-4bdc-99fa-3e01da449a19"
      },
      "outputs": [
        {
          "output_type": "execute_result",
          "data": {
            "text/plain": [
              "array([0.82054878, 0.87887133, 0.90467673])"
            ]
          },
          "metadata": {},
          "execution_count": 10
        }
      ],
      "source": [
        "from sklearn.model_selection import cross_val_score\n",
        "scores=cross_val_score(lr,X,y,cv=3)\n",
        "scores"
      ]
    },
    {
      "cell_type": "code",
      "execution_count": 11,
      "id": "0e09a312",
      "metadata": {
        "colab": {
          "base_uri": "https://localhost:8080/"
        },
        "id": "0e09a312",
        "outputId": "e6e87c65-648f-4bfd-c8d4-b1656d8afa11"
      },
      "outputs": [
        {
          "output_type": "stream",
          "name": "stdout",
          "text": [
            "0.8680322811587531\n"
          ]
        }
      ],
      "source": [
        "print(scores.mean())"
      ]
    },
    {
      "cell_type": "code",
      "execution_count": 14,
      "id": "4e83e6dc",
      "metadata": {
        "colab": {
          "base_uri": "https://localhost:8080/"
        },
        "id": "4e83e6dc",
        "outputId": "52cf335a-c41a-4ee8-d9f9-9dbe182ef45d"
      },
      "outputs": [
        {
          "output_type": "stream",
          "name": "stdout",
          "text": [
            "0.9046767324512978\n"
          ]
        }
      ],
      "source": [
        "print(scores.max())"
      ]
    },
    {
      "cell_type": "code",
      "execution_count": 15,
      "id": "f10e3eba",
      "metadata": {
        "colab": {
          "base_uri": "https://localhost:8080/"
        },
        "id": "f10e3eba",
        "outputId": "a34b65db-9b28-4b07-b3d7-d3a7553dca9f"
      },
      "outputs": [
        {
          "output_type": "execute_result",
          "data": {
            "text/plain": [
              "0.8205487818113071"
            ]
          },
          "metadata": {},
          "execution_count": 15
        }
      ],
      "source": [
        "scores.min()"
      ]
    },
    {
      "cell_type": "code",
      "execution_count": 16,
      "id": "fa53fd69",
      "metadata": {
        "colab": {
          "base_uri": "https://localhost:8080/"
        },
        "id": "fa53fd69",
        "outputId": "fdfc9b91-5109-4c9d-9f33-71662a19f990"
      },
      "outputs": [
        {
          "output_type": "execute_result",
          "data": {
            "text/plain": [
              "2.6040968434762592"
            ]
          },
          "metadata": {},
          "execution_count": 16
        }
      ],
      "source": [
        "scores.sum()"
      ]
    },
    {
      "cell_type": "code",
      "source": [],
      "metadata": {
        "id": "tzvwtg69Tv2I"
      },
      "id": "tzvwtg69Tv2I",
      "execution_count": null,
      "outputs": []
    }
  ],
  "metadata": {
    "kernelspec": {
      "display_name": "Python 3",
      "language": "python",
      "name": "python3"
    },
    "language_info": {
      "codemirror_mode": {
        "name": "ipython",
        "version": 3
      },
      "file_extension": ".py",
      "mimetype": "text/x-python",
      "name": "python",
      "nbconvert_exporter": "python",
      "pygments_lexer": "ipython3",
      "version": "3.8.8"
    },
    "colab": {
      "provenance": [],
      "include_colab_link": true
    }
  },
  "nbformat": 4,
  "nbformat_minor": 5
}